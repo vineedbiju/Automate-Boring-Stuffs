{
 "cells": [
  {
   "cell_type": "code",
   "execution_count": 9,
   "metadata": {},
   "outputs": [
    {
     "name": "stdout",
     "output_type": "stream",
     "text": [
      "fat\n",
      "my cat has color grey\n",
      "{12345: 'Luggage Combination', 42: 'Answer to everything', 1: 'Wrong'}\n"
     ]
    }
   ],
   "source": [
    "myCat = {'size' : 'fat', \"color\" : \"grey\", \"disposition\" : 'loud'}\n",
    "\n",
    "print(myCat['size'])\n",
    "print('my cat has color ' + myCat['color'])\n",
    "\n",
    "spam = {12345 : \"Luggage Combination\", 42: \"Answer to everything\", 1:\"Wrong\"} #cannot start with 0\n",
    "print(spam)\n",
    "\n"
   ]
  },
  {
   "cell_type": "code",
   "execution_count": 12,
   "metadata": {},
   "outputs": [
    {
     "name": "stdout",
     "output_type": "stream",
     "text": [
      "What is the name? (Enter blank for exit) Minnu\n",
      "Wrong name. Wanna enter the new name's details? (y/n) \n",
      "n\n",
      "What is the name? (Enter blank for exit) Minnu\n",
      "Wrong name. Wanna enter the new name's details? (y/n) \n",
      "y\n",
      "Enter the date of birth\n",
      "Nov 15\n",
      "birthday database updated\n",
      "What is the name? (Enter blank for exit) \n"
     ]
    }
   ],
   "source": [
    "birthdays = {\"Vinu\":\"Feb 11\", \"Binod\": \"Mar 25\",\"Amma\":\"Mar 13\",\"Appa\": \"May 22\" }\n",
    "while True:\n",
    "    name = input(\"What is the name? (Enter blank for exit) \")\n",
    "    if name == \"\":\n",
    "        break\n",
    "    \n",
    "    if name in birthdays:\n",
    "        print(\"The Birthday of \"+ name + \" is \"+ birthdays[name])\n",
    "    else:\n",
    "        print(\"Wrong name. Wanna enter the new name's details? (y/n) \")\n",
    "        ch = input()\n",
    "        if ch ==\"n\":\n",
    "            continue\n",
    "        elif ch==\"y\":\n",
    "            print(\"Enter the date of birth\")\n",
    "            birthdays[name]=input()\n",
    "            print(\"birthday database updated\")"
   ]
  },
  {
   "cell_type": "code",
   "execution_count": 20,
   "metadata": {},
   "outputs": [
    {
     "name": "stdout",
     "output_type": "stream",
     "text": [
      "Vinu\n",
      "Binod\n",
      "Amma\n",
      "Appa\n",
      "Minnu\n",
      "\n",
      "Feb 11\n",
      "Mar 25\n",
      "Mar 13\n",
      "May 22\n",
      "Nov 15\n",
      "\n",
      "('Vinu', 'Feb 11')\n",
      "('Binod', 'Mar 25')\n",
      "('Amma', 'Mar 13')\n",
      "('Appa', 'May 22')\n",
      "('Minnu', 'Nov 15')\n",
      "\n"
     ]
    }
   ],
   "source": [
    "#methods - values, keys, items\n",
    "for i in birthdays.keys():\n",
    "    print(i)\n",
    "print()\n",
    "for i in birthdays.values():\n",
    "    print(i)\n",
    "print()\n",
    "for i in birthdays.items():\n",
    "    print(i)\n",
    "print()\n",
    "for k,v in birthdays.items():\n",
    "    print(k,v)"
   ]
  },
  {
   "cell_type": "code",
   "execution_count": 26,
   "metadata": {},
   "outputs": [
    {
     "name": "stdout",
     "output_type": "stream",
     "text": [
      "{'I': 4, ' ': 51, 'a': 15, 'm': 4, 'i': 10, 'n': 9, 'p': 5, 'l': 15, 'c': 2, 'e': 18, 'r': 7, 'g': 5, 'h': 8, 't': 16, 'o': 13, 'w': 10, 'v': 4, 'b': 4, 's': 10, '.': 3, 'k': 3, 'y': 3, 'd': 2, 'u': 2, 'f': 2, 'K': 1, 'B': 1, 'W': 1}\n"
     ]
    }
   ],
   "source": [
    " message = \"I am in a place right now here I will have to be strong.\\\n",
    "    I will have to take baby steps and move towards the goal I will be setting up for myself\\\n",
    "    Know that victory that happens soon will make us weak. Be strong. We will will\"\n",
    "count ={}\n",
    "for characters in message:\n",
    "    count.setdefault(characters,0)\n",
    "    count[characters]+=1\n",
    "    \n",
    "print(count)"
   ]
  },
  {
   "cell_type": "code",
   "execution_count": 32,
   "metadata": {},
   "outputs": [
    {
     "name": "stdout",
     "output_type": "stream",
     "text": [
      "{'Amma': 'Mar 13',\n",
      " 'Appa': 'May 22',\n",
      " 'Binod': 'Mar 25',\n",
      " 'Minnu': 'Nov 15',\n",
      " 'Vinu': 'Feb 11'}\n",
      "{'Amma': 'Mar 13',\n",
      " 'Appa': 'May 22',\n",
      " 'Binod': 'Mar 25',\n",
      " 'Minnu': 'Nov 15',\n",
      " 'Vinu': 'Feb 11'}\n"
     ]
    }
   ],
   "source": [
    "import pprint\n",
    "message = \"I am in a place right now here I will have to be strong.\\\n",
    "    I will have to take baby steps and move towards the goal I will be setting up for myself\\\n",
    "    Know that victory that happens soon will make us weak. Be strong. We will will\"\n",
    "count ={}\n",
    " for characters in message:\n",
    "    count.setdefault(characters,0)\n",
    "    count[characters]+=1\n",
    "    \n",
    "pprint.pprint(count)\n",
    "\n",
    "print(pprint.pformat(birthdays)) #prettified text\n",
    "print(birthdays)\n",
    "pprint.pprint(birthdays)"
   ]
  },
  {
   "cell_type": "code",
   "execution_count": 2,
   "metadata": {},
   "outputs": [
    {
     "name": "stdout",
     "output_type": "stream",
     "text": [
      " | | \n",
      "-+-+-\n",
      " | | \n",
      "-+-+-\n",
      " | | \n",
      "Turn for X. Please enter the position \n",
      "midM\n",
      " | | \n",
      "-+-+-\n",
      " |X| \n",
      "-+-+-\n",
      " | | \n",
      "Turn for O. Please enter the position \n",
      "lowR\n",
      " | | \n",
      "-+-+-\n",
      " |X| \n",
      "-+-+-\n",
      " | |O\n",
      "Turn for X. Please enter the position \n",
      "g\n",
      " | | \n",
      "-+-+-\n",
      " |X| \n",
      "-+-+-\n",
      " | |O\n",
      "Turn for O. Please enter the position \n"
     ]
    },
    {
     "ename": "KeyboardInterrupt",
     "evalue": "Interrupted by user",
     "output_type": "error",
     "traceback": [
      "\u001b[1;31m---------------------------------------------------------------------------\u001b[0m",
      "\u001b[1;31mKeyboardInterrupt\u001b[0m                         Traceback (most recent call last)",
      "\u001b[1;32m<ipython-input-2-021c9046921b>\u001b[0m in \u001b[0;36m<module>\u001b[1;34m\u001b[0m\n\u001b[0;32m     15\u001b[0m     \u001b[0mprintBoard\u001b[0m\u001b[1;33m(\u001b[0m\u001b[0mtheBoard\u001b[0m\u001b[1;33m)\u001b[0m\u001b[1;33m\u001b[0m\u001b[1;33m\u001b[0m\u001b[0m\n\u001b[0;32m     16\u001b[0m     \u001b[0mprint\u001b[0m\u001b[1;33m(\u001b[0m\u001b[1;34m\"Turn for \"\u001b[0m \u001b[1;33m+\u001b[0m \u001b[0mturn\u001b[0m\u001b[1;33m+\u001b[0m \u001b[1;34m\". Please enter the position \"\u001b[0m\u001b[1;33m)\u001b[0m\u001b[1;33m\u001b[0m\u001b[1;33m\u001b[0m\u001b[0m\n\u001b[1;32m---> 17\u001b[1;33m     \u001b[0mmove\u001b[0m \u001b[1;33m=\u001b[0m \u001b[0minput\u001b[0m\u001b[1;33m(\u001b[0m\u001b[1;33m)\u001b[0m\u001b[1;33m\u001b[0m\u001b[1;33m\u001b[0m\u001b[0m\n\u001b[0m\u001b[0;32m     18\u001b[0m     \u001b[0mtheBoard\u001b[0m\u001b[1;33m[\u001b[0m\u001b[0mmove\u001b[0m\u001b[1;33m]\u001b[0m \u001b[1;33m=\u001b[0m \u001b[0mturn\u001b[0m\u001b[1;33m\u001b[0m\u001b[1;33m\u001b[0m\u001b[0m\n\u001b[0;32m     19\u001b[0m     \u001b[1;32mif\u001b[0m \u001b[0mturn\u001b[0m \u001b[1;33m==\u001b[0m\u001b[1;34m\"X\"\u001b[0m\u001b[1;33m:\u001b[0m\u001b[1;33m\u001b[0m\u001b[1;33m\u001b[0m\u001b[0m\n",
      "\u001b[1;32mC:\\ProgramData\\Anaconda3\\lib\\site-packages\\ipykernel\\kernelbase.py\u001b[0m in \u001b[0;36mraw_input\u001b[1;34m(self, prompt)\u001b[0m\n\u001b[0;32m    861\u001b[0m             \u001b[0mself\u001b[0m\u001b[1;33m.\u001b[0m\u001b[0m_parent_ident\u001b[0m\u001b[1;33m,\u001b[0m\u001b[1;33m\u001b[0m\u001b[1;33m\u001b[0m\u001b[0m\n\u001b[0;32m    862\u001b[0m             \u001b[0mself\u001b[0m\u001b[1;33m.\u001b[0m\u001b[0m_parent_header\u001b[0m\u001b[1;33m,\u001b[0m\u001b[1;33m\u001b[0m\u001b[1;33m\u001b[0m\u001b[0m\n\u001b[1;32m--> 863\u001b[1;33m             \u001b[0mpassword\u001b[0m\u001b[1;33m=\u001b[0m\u001b[1;32mFalse\u001b[0m\u001b[1;33m,\u001b[0m\u001b[1;33m\u001b[0m\u001b[1;33m\u001b[0m\u001b[0m\n\u001b[0m\u001b[0;32m    864\u001b[0m         )\n\u001b[0;32m    865\u001b[0m \u001b[1;33m\u001b[0m\u001b[0m\n",
      "\u001b[1;32mC:\\ProgramData\\Anaconda3\\lib\\site-packages\\ipykernel\\kernelbase.py\u001b[0m in \u001b[0;36m_input_request\u001b[1;34m(self, prompt, ident, parent, password)\u001b[0m\n\u001b[0;32m    902\u001b[0m             \u001b[1;32mexcept\u001b[0m \u001b[0mKeyboardInterrupt\u001b[0m\u001b[1;33m:\u001b[0m\u001b[1;33m\u001b[0m\u001b[1;33m\u001b[0m\u001b[0m\n\u001b[0;32m    903\u001b[0m                 \u001b[1;31m# re-raise KeyboardInterrupt, to truncate traceback\u001b[0m\u001b[1;33m\u001b[0m\u001b[1;33m\u001b[0m\u001b[1;33m\u001b[0m\u001b[0m\n\u001b[1;32m--> 904\u001b[1;33m                 \u001b[1;32mraise\u001b[0m \u001b[0mKeyboardInterrupt\u001b[0m\u001b[1;33m(\u001b[0m\u001b[1;34m\"Interrupted by user\"\u001b[0m\u001b[1;33m)\u001b[0m \u001b[1;32mfrom\u001b[0m \u001b[1;32mNone\u001b[0m\u001b[1;33m\u001b[0m\u001b[1;33m\u001b[0m\u001b[0m\n\u001b[0m\u001b[0;32m    905\u001b[0m             \u001b[1;32mexcept\u001b[0m \u001b[0mException\u001b[0m \u001b[1;32mas\u001b[0m \u001b[0me\u001b[0m\u001b[1;33m:\u001b[0m\u001b[1;33m\u001b[0m\u001b[1;33m\u001b[0m\u001b[0m\n\u001b[0;32m    906\u001b[0m                 \u001b[0mself\u001b[0m\u001b[1;33m.\u001b[0m\u001b[0mlog\u001b[0m\u001b[1;33m.\u001b[0m\u001b[0mwarning\u001b[0m\u001b[1;33m(\u001b[0m\u001b[1;34m\"Invalid Message:\"\u001b[0m\u001b[1;33m,\u001b[0m \u001b[0mexc_info\u001b[0m\u001b[1;33m=\u001b[0m\u001b[1;32mTrue\u001b[0m\u001b[1;33m)\u001b[0m\u001b[1;33m\u001b[0m\u001b[1;33m\u001b[0m\u001b[0m\n",
      "\u001b[1;31mKeyboardInterrupt\u001b[0m: Interrupted by user"
     ]
    }
   ],
   "source": [
    "#tic-tac-toe\n",
    "\n",
    "theBoard = {'topL':\" \",'topM':\" \",'topR':\" \",\n",
    "           'midL':\" \",'midM':\" \",'midR':\" \",\n",
    "           'lowL':\" \",'lowM':\" \",'lowR':\" \",}\n",
    "def printBoard(board):\n",
    "    print(board[\"topL\"]+\"|\" + board['topM']+\"|\"+board['topR'])\n",
    "    print(\"-+-+-\")\n",
    "    print(board[\"midL\"]+\"|\" + board['midM']+\"|\"+board['midR'])\n",
    "    print(\"-+-+-\")\n",
    "    print(board[\"lowL\"]+\"|\" + board['lowM']+\"|\"+board['lowR'])\n",
    "   \n",
    "turn = \"X\"\n",
    "for i in range(9):\n",
    "    printBoard(theBoard)\n",
    "    print(\"Turn for \" + turn+ \". Please enter the position \")\n",
    "    move = input()\n",
    "    theBoard[move] = turn\n",
    "    if turn ==\"X\":\n",
    "        turn = \"O\"\n",
    "    else:\n",
    "        turn =\"X\"\n",
    "    "
   ]
  },
  {
   "cell_type": "code",
   "execution_count": 7,
   "metadata": {},
   "outputs": [
    {
     "name": "stdout",
     "output_type": "stream",
     "text": [
      "25\n",
      "50000\n",
      "820\n"
     ]
    }
   ],
   "source": [
    "alG = {\"Vinu\" :{\"LSD\":25, \"MDMA\":15, \"Alcohol\": 300, \"Sutta\" : 10000},\n",
    "      \"Appa\":{\"Alcohol\": 400, \"Sutta\": 40000},\n",
    "      \"Amma\":{\"Alcohol\":20},\n",
    "      \"Binod\":{\"Alcohol\":100, \"MDMA\": 10}}\n",
    "\n",
    "def count(dicta, item):\n",
    "    count = 0\n",
    "    for k,v in dicta.items():\n",
    "        count += v.get(item,0)\n",
    "    return count\n",
    "\n",
    "print(count(alG,\"MDMA\"))\n",
    "print(count(alG,\"Sutta\"))\n",
    "print(count(alG,\"Alcohol\"))"
   ]
  },
  {
   "cell_type": "code",
   "execution_count": 18,
   "metadata": {},
   "outputs": [
    {
     "name": "stdout",
     "output_type": "stream",
     "text": [
      "The rope- 1\n",
      "The torch- 6\n",
      "The gold coin- 42\n",
      "The dagger- 1\n",
      "The arrow- 12\n",
      "Total number of items -  62\n",
      "\n",
      "After Loot adding, new loot - \n",
      "The rope- 2\n",
      "The torch- 6\n",
      "The gold coin- 42\n",
      "The dagger- 2\n",
      "The arrow- 13\n",
      "The ruby- 1\n",
      "Total number of items -  66\n"
     ]
    }
   ],
   "source": [
    "#Fantasy game inventory\n",
    "\n",
    "inventory = {'rope':1, \"torch\":6, \"gold coin\": 42, \"dagger\":1, \"arrow\":12}\n",
    "def count_Inv(game):\n",
    "    count = 0\n",
    "    for i in game:\n",
    "        print(\"The \"+i+ \"- \" + str(game[i]))\n",
    "        count+=game[i]\n",
    "    return count\n",
    "print(\"Total number of items - \", count_Inv(inventory))\n",
    "\n",
    "#Add dragon loot to inventory\n",
    "def add_loot(game, new_loot):\n",
    "    for i in new_loot:\n",
    "        game.setdefault(i,0)\n",
    "        game[i]+=1\n",
    "    return game\n",
    "\n",
    "dragon_loot = [\"rope\",\"dagger\",\"ruby\", \"arrow\"]\n",
    "inventory = add_loot(inventory, dragon_loot)\n",
    "\n",
    "print(\"\\nAfter Loot adding, new loot - \")\n",
    "print(\"Total number of items - \", count_Inv(inventory))\n"
   ]
  }
 ],
 "metadata": {
  "kernelspec": {
   "display_name": "Python 3",
   "language": "python",
   "name": "python3"
  }
 },
 "nbformat": 4,
 "nbformat_minor": 4
}

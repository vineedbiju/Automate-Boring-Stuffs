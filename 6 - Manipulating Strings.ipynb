{
 "cells": [
  {
   "cell_type": "code",
   "execution_count": 9,
   "metadata": {},
   "outputs": [
    {
     "name": "stdout",
     "output_type": "stream",
     "text": [
      "-------PICNIC ITEMS------\n",
      "Sandwiches..........   20\n",
      "Apples..............    3\n",
      "Cookies.............   31\n",
      "Cups................   22\n"
     ]
    }
   ],
   "source": [
    "#Code for printing receipts\n",
    "\n",
    "def print_picnic(items_dict, left_width, right_width):\n",
    "    print(\"PICNIC ITEMS\".center(left_width + right_width, \"-\"))\n",
    "    for k,v in items_dict.items():\n",
    "        print((k.ljust(left_width,\".\")) + (str(v).rjust(right_width)))\n",
    "picnic_items = {\"Sandwiches\":20, \"Apples\":3,\"Cookies\":31, \"Cups\":22}\n",
    "print_picnic(picnic_items, 20,5)\n",
    "    "
   ]
  },
  {
   "cell_type": "code",
   "execution_count": 14,
   "metadata": {},
   "outputs": [
    {
     "data": {
      "text/plain": [
       "'Hello World!'"
      ]
     },
     "execution_count": 14,
     "metadata": {},
     "output_type": "execute_result"
    }
   ],
   "source": [
    "import pyperclip\n",
    "pyperclip.copy(\"Hello World!\")\n",
    "pyperclip.paste()"
   ]
  },
  {
   "cell_type": "code",
   "execution_count": null,
   "metadata": {},
   "outputs": [],
   "source": [
    "\n",
    "\n"
   ]
  }
 ],
 "metadata": {
  "kernelspec": {
   "display_name": "Python 3",
   "language": "python",
   "name": "python3"
  },
  "language_info": {
   "codemirror_mode": {
    "name": "ipython",
    "version": 3
   },
   "file_extension": ".py",
   "mimetype": "text/x-python",
   "name": "python",
   "nbconvert_exporter": "python",
   "pygments_lexer": "ipython3",
   "version": "3.7.1"
  }
 },
 "nbformat": 4,
 "nbformat_minor": 4
}

{
 "cells": [
  {
   "cell_type": "code",
   "execution_count": 15,
   "metadata": {},
   "outputs": [
    {
     "name": "stdout",
     "output_type": "stream",
     "text": [
      "Phone number found 963-389-3313\n",
      "963-389-3313 963 389 3313\n",
      "('963', '389', '3313')\n",
      "963 389 3313\n",
      "963-389-3313\n",
      "['963-389-3313', '485-224-2304']\n",
      "[('963', '389', '3313'), ('485', '224', '2304')]\n"
     ]
    }
   ],
   "source": [
    "import re\n",
    " \n",
    "pnRegex = re.compile(r'\\d\\d\\d-\\d\\d\\d-\\d\\d\\d\\d')\n",
    "mo = pnRegex.search(\"My phone number is 963-389-3313 and 485-224-2304\")\n",
    "print(\"Phone number found \" + mo.group())\n",
    "\n",
    "pngroup = re.compile(r'(\\d\\d\\d)-(\\d\\d\\d)-(\\d\\d\\d\\d)')\n",
    "mogroup = pngroup.search(\"My phone number is 963-389-3313 and 485-224-2304\")\n",
    "print(mogroup.group(),mogroup.group(1),mogroup.group(2),mogroup.group(3))\n",
    "print(mogroup.groups()) #note the plural groups() method\n",
    "\n",
    "area_code, dist_code, other_code = mogroup.groups() #multiple assignment code\n",
    "print(area_code,dist_code,other_code)\n",
    "\n",
    "#findall method\n",
    "mo = pnRegex.search(\"My phone number is 963-389-3313 and 485-224-2304\")\n",
    "print(mo.group()) #prints only the first occurance\n",
    "print(pnRegex.findall(\"My phone number is 963-389-3313 and 485-224-2304\")) #returns everything as a list\n",
    "print(pngroup.findall(\"My phone number is 963-389-3313 and 485-224-2304\")) #returns a list of tuples of strings for each group\n",
    "\n",
    "\n"
   ]
  },
  {
   "cell_type": "code",
   "execution_count": 25,
   "metadata": {},
   "outputs": [
    {
     "data": {
      "text/plain": [
       "'x drummers, x pipers, five rings'"
      ]
     },
     "execution_count": 25,
     "metadata": {},
     "output_type": "execute_result"
    }
   ],
   "source": [
    "import re\n",
    "num = re.compile(r'\\d+')\n",
    "num.sub('x','12 drummers, 12 pipers, five rings')"
   ]
  },
  {
   "cell_type": "code",
   "execution_count": null,
   "metadata": {},
   "outputs": [],
   "source": []
  }
 ],
 "metadata": {
  "kernelspec": {
   "display_name": "Python 3",
   "language": "python",
   "name": "python3"
  }
 },
 "nbformat": 4,
 "nbformat_minor": 4
}

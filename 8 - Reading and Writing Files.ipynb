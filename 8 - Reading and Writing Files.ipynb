{
 "cells": [
  {
   "cell_type": "code",
   "execution_count": 1,
   "metadata": {},
   "outputs": [],
   "source": [
    "import os"
   ]
  },
  {
   "cell_type": "code",
   "execution_count": 19,
   "metadata": {},
   "outputs": [
    {
     "name": "stdout",
     "output_type": "stream",
     "text": [
      "c:users\\files\\str\n",
      "c:users\\files\\bin\n",
      "c:users\\files\\fu.py\n",
      "C:\\\n"
     ]
    },
    {
     "data": {
      "text/plain": [
       "'C:\\\\Users\\\\vineed\\\\Documents\\\\Python Crash Course - To be done before 25th July'"
      ]
     },
     "execution_count": 19,
     "metadata": {},
     "output_type": "execute_result"
    }
   ],
   "source": [
    "files = [\"str\",\"bin\",\"fu.py\"]\n",
    "for i in files:\n",
    "    print(os.path.join(\"c:\",\"users\",\"files\",i))\n",
    "    \n",
    "cwd = os.getcwd() #current working directory\n",
    "print(cwd)\n",
    "os.chdir(\"C:\\\\\")\n",
    "os.chdir(\"C:\\\\Users\\\\vineed\\\\Documents\\\\Python Crash Course - To be done before 25th July\")\n",
    "os.getcwd()"
   ]
  },
  {
   "cell_type": "code",
   "execution_count": 21,
   "metadata": {},
   "outputs": [
    {
     "ename": "FileExistsError",
     "evalue": "[WinError 183] Cannot create a file when that file already exists: 'C:\\\\samplepythonfolder\\\\deletethis if you are reading this'",
     "output_type": "error",
     "traceback": [
      "\u001b[1;31m---------------------------------------------------------------------------\u001b[0m",
      "\u001b[1;31mFileExistsError\u001b[0m                           Traceback (most recent call last)",
      "\u001b[1;32m<ipython-input-21-276e307a5ef1>\u001b[0m in \u001b[0;36m<module>\u001b[1;34m\u001b[0m\n\u001b[1;32m----> 1\u001b[1;33m \u001b[0mos\u001b[0m\u001b[1;33m.\u001b[0m\u001b[0mmakedirs\u001b[0m\u001b[1;33m(\u001b[0m\u001b[1;34m'C:\\\\samplepythonfolder\\deletethis if you are reading this'\u001b[0m\u001b[1;33m)\u001b[0m\u001b[1;33m\u001b[0m\u001b[1;33m\u001b[0m\u001b[0m\n\u001b[0m\u001b[0;32m      2\u001b[0m \u001b[0mos\u001b[0m\u001b[1;33m.\u001b[0m\u001b[0mpath\u001b[0m\u001b[1;33m.\u001b[0m\u001b[0mabspath\u001b[0m\u001b[1;33m(\u001b[0m\u001b[1;34m\".\"\u001b[0m\u001b[1;33m)\u001b[0m\u001b[1;33m\u001b[0m\u001b[1;33m\u001b[0m\u001b[0m\n",
      "\u001b[1;32mC:\\ProgramData\\Anaconda3\\lib\\os.py\u001b[0m in \u001b[0;36mmakedirs\u001b[1;34m(name, mode, exist_ok)\u001b[0m\n\u001b[0;32m    219\u001b[0m             \u001b[1;32mreturn\u001b[0m\u001b[1;33m\u001b[0m\u001b[1;33m\u001b[0m\u001b[0m\n\u001b[0;32m    220\u001b[0m     \u001b[1;32mtry\u001b[0m\u001b[1;33m:\u001b[0m\u001b[1;33m\u001b[0m\u001b[1;33m\u001b[0m\u001b[0m\n\u001b[1;32m--> 221\u001b[1;33m         \u001b[0mmkdir\u001b[0m\u001b[1;33m(\u001b[0m\u001b[0mname\u001b[0m\u001b[1;33m,\u001b[0m \u001b[0mmode\u001b[0m\u001b[1;33m)\u001b[0m\u001b[1;33m\u001b[0m\u001b[1;33m\u001b[0m\u001b[0m\n\u001b[0m\u001b[0;32m    222\u001b[0m     \u001b[1;32mexcept\u001b[0m \u001b[0mOSError\u001b[0m\u001b[1;33m:\u001b[0m\u001b[1;33m\u001b[0m\u001b[1;33m\u001b[0m\u001b[0m\n\u001b[0;32m    223\u001b[0m         \u001b[1;31m# Cannot rely on checking for EEXIST, since the operating system\u001b[0m\u001b[1;33m\u001b[0m\u001b[1;33m\u001b[0m\u001b[1;33m\u001b[0m\u001b[0m\n",
      "\u001b[1;31mFileExistsError\u001b[0m: [WinError 183] Cannot create a file when that file already exists: 'C:\\\\samplepythonfolder\\\\deletethis if you are reading this'"
     ]
    }
   ],
   "source": [
    "os.makedirs('C:\\\\samplepythonfolder\\deletethis if you are reading this')\n"
   ]
  },
  {
   "cell_type": "code",
   "execution_count": 25,
   "metadata": {},
   "outputs": [
    {
     "data": {
      "text/plain": [
       "True"
      ]
     },
     "execution_count": 25,
     "metadata": {},
     "output_type": "execute_result"
    }
   ],
   "source": [
    "os.path.abspath(\".\\\\Scripts\") #Returns abs path\n",
    "os.path.isabs(\".\") #checks for absolute path - returns false\n",
    "os.path.isabs(os.path.abspath(\".\"))  #returns true"
   ]
  },
  {
   "cell_type": "code",
   "execution_count": 15,
   "metadata": {},
   "outputs": [
    {
     "name": "stdout",
     "output_type": "stream",
     "text": [
      "1629382303\n"
     ]
    }
   ],
   "source": [
    "os.path.getsize(os.path.join(\"C:\\\\Windows\",\"System32\",\"calc.exe\")) #returns file size\n",
    "\n",
    "os.listdir(\"C://Windows/System32/\")\n",
    "\n",
    "tot_size = 0\n",
    "for filenames in os.listdir(\"c:/Windows/System32/\"):\n",
    "    try:\n",
    "        tot_size += os.path.getsize(os.path.join(\"c:/Windows/System32/\",filenames))\n",
    "    except FileNotFoundError:\n",
    "        continue\n",
    "\n",
    "print(tot_size)\n",
    "    \n",
    "\n",
    "    "
   ]
  },
  {
   "cell_type": "code",
   "execution_count": 17,
   "metadata": {},
   "outputs": [
    {
     "data": {
      "text/plain": [
       "False"
      ]
     },
     "execution_count": 17,
     "metadata": {},
     "output_type": "execute_result"
    }
   ],
   "source": [
    "os.path.exists(\"c:/Windows\") #returns true\n",
    "os.path.exists(\"c:/SomerandomFolder\") #Returns false\n",
    "\n",
    "#isdir and isfile - checks for directory and file"
   ]
  },
  {
   "cell_type": "code",
   "execution_count": 27,
   "metadata": {},
   "outputs": [
    {
     "name": "stdout",
     "output_type": "stream",
     "text": [
      "Hello World. \n",
      "Have fun, you little bastard!!!\n"
     ]
    },
    {
     "data": {
      "text/plain": [
       "[\"When in disfrace wiht fortune and men's eues,\\n\",\n",
       " 'I all alone beweep my outcast state, \\n',\n",
       " 'And trouble deaf deaven with my bootless cries,\\n',\n",
       " 'And look upon myself and curse my fate,']"
      ]
     },
     "execution_count": 27,
     "metadata": {},
     "output_type": "execute_result"
    }
   ],
   "source": [
    "#working with files\n",
    "    \n",
    "hello_file = open(\"C:/Users/vineed/Documents/Python Scripts/DeleteThis\")\n",
    "hello_content = hello_file.read()\n",
    "print(hello_content)\n",
    "\n",
    "sonnet_file = open('C:/Users/vineed/Documents/Python Scripts/sonnet29.txt')\n",
    "sonnet_file.readlines()"
   ]
  },
  {
   "cell_type": "code",
   "execution_count": 34,
   "metadata": {},
   "outputs": [
    {
     "name": "stdout",
     "output_type": "stream",
     "text": [
      "Hello World!\n",
      "Bacon is not a vegetable\n"
     ]
    }
   ],
   "source": [
    "bacon_file = open(\"C:/Users/vineed/Documents/Python Scripts/bacon.txt\", \"w\") #write mode, create new file since no existing file\n",
    "bacon_file.write(\"Hello World!\\n\")\n",
    "bacon_file.close()\n",
    "\n",
    "bacon_file = open(\"C:/Users/vineed/Documents/Python Scripts/bacon.txt\",\"a\") #append mode\n",
    "bacon_file.write(\"Bacon is not a vegetable\")\n",
    "bacon_file.close()\n",
    "bacon_file = open(\"C:/Users/vineed/Documents/Python Scripts/bacon.txt\")\n",
    "content = bacon_file.read() #read file\n",
    "bacon_file.close()\n",
    "print(content)"
   ]
  },
  {
   "cell_type": "code",
   "execution_count": 35,
   "metadata": {},
   "outputs": [
    {
     "data": {
      "text/plain": [
       "'C:\\\\Users\\\\vineed\\\\Documents\\\\Python Crash Course - To be done before 25th July'"
      ]
     },
     "execution_count": 35,
     "metadata": {},
     "output_type": "execute_result"
    }
   ],
   "source": [
    "os.getcwd()"
   ]
  },
  {
   "cell_type": "code",
   "execution_count": 6,
   "metadata": {},
   "outputs": [],
   "source": [
    "import shelve\n",
    "\n",
    "shelf_file = shelve.open(\"mydata\")\n",
    "cats = [\"Zophie\", \"Pooka\", \"Simon\"]\n",
    "\n",
    "shelf_file['cats'] = cats\n",
    "shelf_file.close()\n"
   ]
  },
  {
   "cell_type": "code",
   "execution_count": 9,
   "metadata": {},
   "outputs": [
    {
     "name": "stdout",
     "output_type": "stream",
     "text": [
      "<class 'shelve.DbfilenameShelf'>\n"
     ]
    }
   ],
   "source": [
    "shelf_file = shelve.open('mydata')\n",
    "print(type(shelf_file))\n",
    "\n",
    "shelf_file['cats']\n",
    "shelf_file.close()"
   ]
  },
  {
   "cell_type": "code",
   "execution_count": 11,
   "metadata": {},
   "outputs": [
    {
     "name": "stdout",
     "output_type": "stream",
     "text": [
      "['cats']\n",
      "[['Zophie', 'Pooka', 'Simon']]\n"
     ]
    }
   ],
   "source": [
    "shelf_file = shelve.open(\"mydata\")\n",
    "print(list(shelf_file.keys()))\n",
    "print(list(shelf_file.values()))\n",
    "shelf_file.close()"
   ]
  },
  {
   "cell_type": "code",
   "execution_count": 15,
   "metadata": {},
   "outputs": [],
   "source": [
    "import pprint\n",
    "dogs = [{'name':\"Minnu\", \"desc\":\"Sweet\"},{'name':\"Rosy\",\"desc\":\"intelligent\"}]\n",
    "pprint.pformat(dogs)\n",
    "\n",
    "file_obj = open('mydogs.py','w')\n",
    "file_obj.write('dogs = ' + pprint.pformat(dogs) + '\\n')\n",
    "file_obj.close()"
   ]
  },
  {
   "cell_type": "code",
   "execution_count": 17,
   "metadata": {},
   "outputs": [
    {
     "data": {
      "text/plain": [
       "{'desc': 'intelligent', 'name': 'Rosy'}"
      ]
     },
     "execution_count": 17,
     "metadata": {},
     "output_type": "execute_result"
    }
   ],
   "source": [
    "import mydogs\n",
    "mydogs.dogs\n",
    "mydogs.dogs[1]"
   ]
  }
 ],
 "metadata": {
  "kernelspec": {
   "display_name": "Python 3",
   "language": "python",
   "name": "python3"
  },
  "language_info": {
   "codemirror_mode": {
    "name": "ipython",
    "version": 3
   },
   "file_extension": ".py",
   "mimetype": "text/x-python",
   "name": "python",
   "nbconvert_exporter": "python",
   "pygments_lexer": "ipython3",
   "version": "3.7.1"
  }
 },
 "nbformat": 4,
 "nbformat_minor": 4
}

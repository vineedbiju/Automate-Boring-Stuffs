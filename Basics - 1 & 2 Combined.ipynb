{
 "cells": [
  {
   "cell_type": "code",
   "execution_count": null,
   "metadata": {},
   "outputs": [],
   "source": [
    "print(\"Hi there stranger. May I know your name?\")\n",
    "name = input()\n",
    "print(\"Hello there, \" + name)\n",
    "print(\"Your name is \" + str(len(name)) + \" characters long\")\n",
    "\n",
    "age = int(input(\"If I may be bold enough to ask, can I also know your age?\"))\n",
    "print()\n",
    "if age <18:\n",
    "    print(name + \", you should probably wait \" + str(18-age) + \" more years before you can vote\")\n",
    "else:\n",
    "    print(\"Should have been voting every year since the last \" + str(age-18) + \" years, \" + name)\n",
    "    "
   ]
  },
  {
   "cell_type": "code",
   "execution_count": null,
   "metadata": {},
   "outputs": [],
   "source": []
  },
  {
   "cell_type": "code",
   "execution_count": null,
   "metadata": {},
   "outputs": [],
   "source": [
    "### while loop\n",
    "num = 0\n",
    "while num < 5 :\n",
    "    print(\"*\"*(num+1))\n",
    "    num += 1"
   ]
  },
  {
   "cell_type": "code",
   "execution_count": null,
   "metadata": {},
   "outputs": [],
   "source": [
    "#This is an annoyoing loop. Break can be used to stop while\n",
    "name = \"\"\n",
    "while name != \"Vineed\":\n",
    "    name = input(\"Please enter your correct name - \")\n",
    "print(\"Thanks\")"
   ]
  },
  {
   "cell_type": "code",
   "execution_count": null,
   "metadata": {},
   "outputs": [],
   "source": [
    "name = \"\"\n",
    "while name != \"Vineed\":\n",
    "    if name ==\"help\":\n",
    "        break\n",
    "    name = input(\"You will have to enter your name Vineed\")\n",
    "print(\"Thanks! Finally\")"
   ]
  },
  {
   "cell_type": "code",
   "execution_count": null,
   "metadata": {},
   "outputs": [],
   "source": [
    "while True:\n",
    "    print(\"Who are you?\")\n",
    "    name = input()\n",
    "    if name != \"Vineed\":\n",
    "        continue\n",
    "    print(\"hi there Vineed. Got me worried for a second there.\")\n",
    "    password = input(\"please enter the password. Its your fav paper\")\n",
    "    if password == \"LSD\":\n",
    "        break\n",
    "print(\"all is done and all is well\")"
   ]
  },
  {
   "cell_type": "code",
   "execution_count": null,
   "metadata": {},
   "outputs": [],
   "source": [
    "log = (input(\"Any character :\"))\n",
    "while log:\n",
    "    print(\"Once is good\")\n",
    "    break"
   ]
  },
  {
   "cell_type": "code",
   "execution_count": null,
   "metadata": {},
   "outputs": [],
   "source": [
    "j = 0\n",
    "for j in range(1,10,2):\n",
    "    print(j)"
   ]
  },
  {
   "cell_type": "code",
   "execution_count": null,
   "metadata": {},
   "outputs": [],
   "source": [
    "import random, sys\n",
    "i= 0 \n",
    "for i in range(10):\n",
    "    print(random.randint(a=100, b=200))\n",
    "    if i ==9:\n",
    "        sys.exit()\n",
    "    \n",
    "    \n",
    "    \n",
    "\n"
   ]
  },
  {
   "cell_type": "code",
   "execution_count": null,
   "metadata": {},
   "outputs": [],
   "source": [
    "\n",
    "while True:\n",
    "    print(\"Input 'Exit' for breaking this infinite loop \")\n",
    "    spam = (input(\"Enter input - \"))\n",
    "    \n",
    "    if spam == \"1\":\n",
    "        print(\"Hello\")\n",
    "        continue\n",
    "    elif spam == \"2\":\n",
    "        print(\"Howdy\")\n",
    "        continue\n",
    "    elif spam != \"Exit\" :\n",
    "        print(\"You are the man\")\n",
    "        continue\n",
    "    else :\n",
    "        break\n",
    "print(\"That was a lot of work\")\n",
    "        "
   ]
  },
  {
   "cell_type": "code",
   "execution_count": null,
   "metadata": {},
   "outputs": [],
   "source": [
    "num = 0\n",
    "for num in range(1,11):\n",
    "    print (num)\n",
    " "
   ]
  },
  {
   "cell_type": "code",
   "execution_count": null,
   "metadata": {},
   "outputs": [],
   "source": [
    "num = 0 \n",
    "while num<10:\n",
    "    print(num+1)\n",
    "    num+=1\n"
   ]
  },
  {
   "cell_type": "code",
   "execution_count": 53,
   "metadata": {},
   "outputs": [
    {
     "data": {
      "text/plain": [
       "2"
      ]
     },
     "execution_count": 53,
     "metadata": {},
     "output_type": "execute_result"
    }
   ],
   "source": [
    "abs(-1.2)\n",
    "round(1.2)\n",
    "round(1.9)\n"
   ]
  }
 ],
 "metadata": {
  "kernelspec": {
   "display_name": "Python 3",
   "language": "python",
   "name": "python3"
  },
  "language_info": {
   "codemirror_mode": {
    "name": "ipython",
    "version": 3
   },
   "file_extension": ".py",
   "mimetype": "text/x-python",
   "name": "python",
   "nbconvert_exporter": "python",
   "pygments_lexer": "ipython3",
   "version": "3.7.1"
  }
 },
 "nbformat": 4,
 "nbformat_minor": 4
}

{
 "cells": [
  {
   "cell_type": "code",
   "execution_count": 37,
   "metadata": {},
   "outputs": [
    {
     "name": "stdout",
     "output_type": "stream",
     "text": [
      "['Vineed', 'Binod', 'Biju', 'Niney', 'Minnu']\n",
      "['Vineed', 'Binod', 'Biju', 'Niney', 'Mummu', 'Minnu']\n",
      "['Vineed', 'Binod', 'Biju', 'Niney', 'Mummy', 'Minnu']\n",
      "['Vineed', 'Binod', 'Biju', 'Niney', 'Mummy', 'Minnu', 'Rascal']\n",
      "['Vineed', 'Binod', 'Biju', 'Niney', 'Mummy', 'Minnu']\n",
      "['Vineed', 'Biju', 'Niney', 'Mummy', 'Minnu']\n",
      "['Vineed', 'Binod', 'Biju', 'Niney', 'Mummy', 'Minnu']\n",
      "[-56.2, -8, 0.99, 1, 5, 90]\n",
      "[90, 5, 1, 0.99, -8, -56.2]\n",
      "['A', 'B', 'a', 'b']\n",
      "['A', 'a', 'B', 'b']\n"
     ]
    }
   ],
   "source": [
    "spam = [\"Vineed\",\"Binod\",\"Biju\",\"Niney\"]\n",
    "spam.index(\"Vineed\")\n",
    "\n",
    "spam.append(\"Minnu\")\n",
    "print(spam)\n",
    "spam.insert(4,\"Mummu\")\n",
    "print(spam)\n",
    "spam[spam.index(\"Mummu\")] = \"Mummy\"\n",
    "print(spam)\n",
    "\n",
    "spam.append(\"Rascal\")\n",
    "print(spam)\n",
    "spam.remove(\"Rascal\")\n",
    "print(spam)\n",
    "del(spam[1])\n",
    "print(spam)\n",
    "spam.insert(1,\"Binod\")\n",
    "print(spam)\n",
    "\n",
    "Vinu, Binod, Biju, Niney, Mummy, Minnu = spam #multiple assignment\n",
    "\n",
    "spam = [1,5,90,-8,.99,-56.2]\n",
    "spam.sort()\n",
    "print(spam)\n",
    "spam.sort(reverse=True)\n",
    "print(spam)\n",
    "\n",
    "spam = [\"a\",\"A\",\"b\",\"B\"]\n",
    "spam.sort()\n",
    "print(spam)\n",
    "spam.sort(key=str.lower)\n",
    "print(spam)\n",
    "    "
   ]
  },
  {
   "cell_type": "code",
   "execution_count": 39,
   "metadata": {},
   "outputs": [
    {
     "name": "stdout",
     "output_type": "stream",
     "text": [
      "Yes\n",
      "Enter 'e' to exit - \n",
      "Concentrate and ask again\n",
      "Enter 'e' to exit - \n",
      "Ask again later in sometime\n",
      "Enter 'e' to exit - \n",
      "Very doubtful\n",
      "Enter 'e' to exit - \n",
      "Reply hazy try again\n",
      "Enter 'e' to exit - \n",
      "Very doubtful\n",
      "Enter 'e' to exit - e\n"
     ]
    }
   ],
   "source": [
    "import random\n",
    "\n",
    "message = [\n",
    "    \"It is certain\",\n",
    "    \"It is decidedly so\",\n",
    "    \"Yes\",\n",
    "    \"Reply hazy try again\",\n",
    "    \"Ask again later in sometime\",\n",
    "    \"Concentrate and ask again\",\n",
    "    \"My reply is no\",\n",
    "    \"Outlook not so good\",\n",
    "    \"Very doubtful\"\n",
    "]\n",
    "choice = \"\"\n",
    "while True:\n",
    "    print(message[random.randint(0,len(message)-1)])\n",
    "    choice = input(\"Enter 'e' to exit - \")\n",
    "    if choice ==\"e\":\n",
    "        break\n"
   ]
  },
  {
   "cell_type": "code",
   "execution_count": 40,
   "metadata": {},
   "outputs": [
    {
     "name": "stdout",
     "output_type": "stream",
     "text": [
      "Enter name - Vineed\n",
      "****V****\n",
      "****i****\n",
      "****n****\n",
      "****e****\n",
      "****e****\n",
      "****d****\n"
     ]
    }
   ],
   "source": [
    "name = input(\"Enter name - \")\n",
    "for i in name:\n",
    "    print(\"****\"+i+\"****\")\n",
    "    \n"
   ]
  },
  {
   "cell_type": "code",
   "execution_count": 46,
   "metadata": {},
   "outputs": [
    {
     "data": {
      "text/plain": [
       "['h', 'e', 'l', 'l', 'o']"
      ]
     },
     "execution_count": 46,
     "metadata": {},
     "output_type": "execute_result"
    }
   ],
   "source": [
    "tpl = (\"hello\",)\n",
    "type(tpl)\n",
    "list(list(tpl)[0])\n"
   ]
  },
  {
   "cell_type": "code",
   "execution_count": null,
   "metadata": {},
   "outputs": [],
   "source": [
    "#python passes references to functions when list is used.\n",
    "#python copies the literal value when literals are passed to the function\n",
    "\n",
    "#Remember copy() and deepcopy()\n",
    "\n"
   ]
  },
  {
   "cell_type": "code",
   "execution_count": 49,
   "metadata": {},
   "outputs": [
    {
     "name": "stdout",
     "output_type": "stream",
     "text": [
      "[2, 4, 6, 8, 10]\n"
     ]
    },
    {
     "data": {
      "text/plain": [
       "tuple"
      ]
     },
     "execution_count": 49,
     "metadata": {},
     "output_type": "execute_result"
    }
   ],
   "source": [
    "spam = [2,4,6,8,10]\n",
    "spam.insert(2,\"hello\")\n",
    "spam.remove(\"hello\")\n",
    "print(spam)\n",
    "type((4,))"
   ]
  },
  {
   "cell_type": "code",
   "execution_count": 55,
   "metadata": {},
   "outputs": [
    {
     "name": "stdout",
     "output_type": "stream",
     "text": [
      "apples, banana, tofu, cats, and cats\n"
     ]
    }
   ],
   "source": [
    "#Comma Code\n",
    "def listtostring(data):\n",
    "    string = \"\"\n",
    "    i = 0\n",
    "    for i in range(len(data)):\n",
    "        if i != len(data)-1:\n",
    "            string += data[i] + \", \"\n",
    "        else:\n",
    "            string += \"and \" + data[i]\n",
    "    print(string)\n",
    "\n",
    "reqList = [\"apples\", \"banana\", \"tofu\",\"cats\", \"cats\"]\n",
    "listtostring(reqList)\n",
    "        "
   ]
  },
  {
   "cell_type": "code",
   "execution_count": 62,
   "metadata": {},
   "outputs": [
    {
     "name": "stdout",
     "output_type": "stream",
     "text": [
      "..OO.OO..\n",
      ".OOOOOOO.\n",
      ".OOOOOOO.\n",
      "..OOOO...\n",
      "....O....\n"
     ]
    }
   ],
   "source": [
    "#Character Picture Grid\n",
    "\n",
    "grid = [\n",
    "        [\".\",\".\",\".\",\".\",\".\"],\n",
    "        [\".\",\"O\",\"O\",\".\",\".\"],\n",
    "        [\"O\",\"O\",\"O\",\"O\",\".\"],\n",
    "        [\"O\",\"O\",\"O\",\"O\",\".\"],\n",
    "        [\".\",\"O\",\"O\",\"O\",\"O\"],\n",
    "        [\"O\",\"O\",\"O\",\"O\",\".\"],\n",
    "        [\"O\",\"O\",\"O\",\".\",\".\"],\n",
    "        [\".\",\"O\",\"O\",\".\",\".\"],\n",
    "        [\".\",\".\",\".\",\".\",\".\"]\n",
    "       ]\n",
    "\n",
    "\n",
    "for i in range(len(grid[i])):\n",
    "    string = \"\"\n",
    "    for j in range(len(grid)):\n",
    "        string += grid[j][i]\n",
    "    print(string)"
   ]
  }
 ],
 "metadata": {
  "kernelspec": {
   "display_name": "Python 3",
   "language": "python",
   "name": "python3"
  },
  "language_info": {
   "codemirror_mode": {
    "name": "ipython",
    "version": 3
   },
   "file_extension": ".py",
   "mimetype": "text/x-python",
   "name": "python",
   "nbconvert_exporter": "python",
   "pygments_lexer": "ipython3",
   "version": "3.7.1"
  }
 },
 "nbformat": 4,
 "nbformat_minor": 4
}
